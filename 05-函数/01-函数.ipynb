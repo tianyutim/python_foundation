{
 "cells": [
  {
   "cell_type": "markdown",
   "id": "31edd097",
   "metadata": {},
   "source": [
    "# 01 函数"
   ]
  },
  {
   "cell_type": "markdown",
   "id": "a1ab5bf8",
   "metadata": {},
   "source": [
    "用Python编写函数：\n",
    "- 用函数来实现一项功能\n",
    "- 把实现的细节代码都写在函数里\n",
    "- 使用的时候调用函数即可"
   ]
  },
  {
   "cell_type": "code",
   "execution_count": 2,
   "id": "504676d9",
   "metadata": {},
   "outputs": [
    {
     "name": "stdout",
     "output_type": "stream",
     "text": [
      "====================\n",
      "打开榨汁机\n",
      "放入水果\n",
      "关闭榨汁机\n",
      "====================\n",
      "====================\n",
      "打开榨汁机\n",
      "放入水果\n",
      "关闭榨汁机\n",
      "====================\n",
      "====================\n",
      "打开榨汁机\n",
      "放入水果\n",
      "关闭榨汁机\n",
      "====================\n"
     ]
    }
   ],
   "source": [
    "def get_juice():\n",
    "    print('=' * 20)\n",
    "    print('打开榨汁机')\n",
    "    print('放入水果')\n",
    "    print('关闭榨汁机')\n",
    "    print('=' * 20)\n",
    "\n",
    "get_juice()\n",
    "get_juice()\n",
    "get_juice()"
   ]
  },
  {
   "cell_type": "markdown",
   "id": "09142bb8",
   "metadata": {},
   "source": [
    "### 函数的声明\n",
    "- 使用`def`声明一个函数\n",
    "- 给函数取一个名称\n",
    "- 命名规范和变量类似\n",
    "- 使用小括号、冒号和缩进\n",
    "- 编写函数需要完成的代码"
   ]
  },
  {
   "cell_type": "markdown",
   "id": "9c7e2c85",
   "metadata": {},
   "source": [
    "### 函数的使用\n",
    "- 完成了函数的声明之后\n",
    "- 使用函数的名称即可调用\n",
    "- 一次声明，随意使用，一劳永逸"
   ]
  },
  {
   "cell_type": "markdown",
   "id": "9b021b41",
   "metadata": {},
   "source": [
    "### 参数\n",
    "让函数更加灵活多样。在声明部分使用参数，不同的参数，对应不同的运行结果。  \n",
    "  \n",
    "形参：声明时使用，仅起语义作用。  \n",
    "实参：调用时使用，必须是具体的值。"
   ]
  },
  {
   "cell_type": "code",
   "execution_count": 4,
   "id": "3c4656ba",
   "metadata": {},
   "outputs": [
    {
     "name": "stdout",
     "output_type": "stream",
     "text": [
      "====================\n",
      "打开榨汁机\n",
      "放入 Apple\n",
      "关闭榨汁机\n",
      "====================\n",
      "====================\n",
      "打开榨汁机\n",
      "放入 Watermelon\n",
      "关闭榨汁机\n",
      "====================\n"
     ]
    }
   ],
   "source": [
    "def get_juice(fruit):\n",
    "    print('=' * 20)\n",
    "    print('打开榨汁机')\n",
    "    print('放入',fruit)\n",
    "    print('关闭榨汁机')\n",
    "    print('=' * 20)\n",
    "\n",
    "get_juice('Apple')\n",
    "get_juice('Watermelon')"
   ]
  },
  {
   "cell_type": "markdown",
   "id": "279eb252",
   "metadata": {},
   "source": [
    "### 返回值\n",
    "- 让函数返回结果，用于后续进一步使用\n",
    "- 返回的值，可以是任意雷总\n",
    "- 使用return返回结果\n",
    "- return代表函数的结束"
   ]
  },
  {
   "cell_type": "code",
   "execution_count": 4,
   "id": "5f5cfd9c",
   "metadata": {},
   "outputs": [
    {
     "name": "stdout",
     "output_type": "stream",
     "text": [
      "5050\n"
     ]
    }
   ],
   "source": [
    "def cum_sum(N):\n",
    "    s = 0\n",
    "    for i in range(N):\n",
    "        s += i+1\n",
    "    return s\n",
    "\n",
    "s = cum_sum(100)\n",
    "print(s)"
   ]
  },
  {
   "cell_type": "markdown",
   "id": "d42ad852",
   "metadata": {},
   "source": [
    "### 作用域\n",
    "- 声明中的变量，仅在函数内部有效\n",
    "- 函数调用时临时产生\n",
    "- 函数结束后马上销毁"
   ]
  },
  {
   "cell_type": "code",
   "execution_count": 6,
   "id": "cc224ccb",
   "metadata": {},
   "outputs": [
    {
     "name": "stdout",
     "output_type": "stream",
     "text": [
      "5050\n"
     ]
    },
    {
     "ename": "NameError",
     "evalue": "name 'N' is not defined",
     "output_type": "error",
     "traceback": [
      "\u001b[1;31m---------------------------------------------------------------------------\u001b[0m",
      "\u001b[1;31mNameError\u001b[0m                                 Traceback (most recent call last)",
      "\u001b[1;32m<ipython-input-6-4ced8b4c57e5>\u001b[0m in \u001b[0;36m<module>\u001b[1;34m\u001b[0m\n\u001b[0;32m      6\u001b[0m \u001b[1;33m\u001b[0m\u001b[0m\n\u001b[0;32m      7\u001b[0m \u001b[0mprint\u001b[0m\u001b[1;33m(\u001b[0m\u001b[0mcum_sum\u001b[0m\u001b[1;33m(\u001b[0m\u001b[1;36m100\u001b[0m\u001b[1;33m)\u001b[0m\u001b[1;33m)\u001b[0m\u001b[1;33m\u001b[0m\u001b[1;33m\u001b[0m\u001b[0m\n\u001b[1;32m----> 8\u001b[1;33m \u001b[0mprint\u001b[0m\u001b[1;33m(\u001b[0m\u001b[0mN\u001b[0m\u001b[1;33m)\u001b[0m\u001b[1;33m\u001b[0m\u001b[1;33m\u001b[0m\u001b[0m\n\u001b[0m\u001b[0;32m      9\u001b[0m \u001b[0mprint\u001b[0m\u001b[1;33m(\u001b[0m\u001b[0ms\u001b[0m\u001b[1;33m)\u001b[0m\u001b[1;33m\u001b[0m\u001b[1;33m\u001b[0m\u001b[0m\n\u001b[0;32m     10\u001b[0m \u001b[0mprint\u001b[0m\u001b[1;33m(\u001b[0m\u001b[0mi\u001b[0m\u001b[1;33m)\u001b[0m\u001b[1;33m\u001b[0m\u001b[1;33m\u001b[0m\u001b[0m\n",
      "\u001b[1;31mNameError\u001b[0m: name 'N' is not defined"
     ]
    }
   ],
   "source": [
    "def cum_sum(N):\n",
    "    s = 0\n",
    "    for i in range(N):\n",
    "        s += i+1\n",
    "    return s\n",
    "\n",
    "print(cum_sum(100))\n",
    "print(N)\n",
    "print(s)\n",
    "print(i)"
   ]
  },
  {
   "cell_type": "markdown",
   "id": "bc0ce46a",
   "metadata": {},
   "source": [
    "### 递归\n",
    "- 在函数中调用自身，称作递归\n",
    "- 大而化小，分而治之\n",
    "- 递归函数必须有结束条件，不能无限递归"
   ]
  },
  {
   "cell_type": "code",
   "execution_count": null,
   "id": "3551bd30",
   "metadata": {},
   "outputs": [],
   "source": [
    "#例子：累加和\n",
    "\n",
    "def cum_sum(N):\n",
    "    if N == 1:\n",
    "        return 1\n",
    "    else:\n",
    "        return N + cum_sum(N - 1)"
   ]
  }
 ],
 "metadata": {
  "kernelspec": {
   "display_name": "Python 3",
   "language": "python",
   "name": "python3"
  },
  "language_info": {
   "codemirror_mode": {
    "name": "ipython",
    "version": 3
   },
   "file_extension": ".py",
   "mimetype": "text/x-python",
   "name": "python",
   "nbconvert_exporter": "python",
   "pygments_lexer": "ipython3",
   "version": "3.8.8"
  }
 },
 "nbformat": 4,
 "nbformat_minor": 5
}
