{
 "cells": [
  {
   "cell_type": "markdown",
   "id": "da944476",
   "metadata": {},
   "source": [
    "# 03 Dictionary"
   ]
  },
  {
   "cell_type": "markdown",
   "id": "d5e83273",
   "metadata": {},
   "source": [
    "在Python中使用字典："
   ]
  },
  {
   "cell_type": "code",
   "execution_count": 1,
   "id": "3db74038",
   "metadata": {},
   "outputs": [
    {
     "name": "stdout",
     "output_type": "stream",
     "text": [
      "{'money': 32, 'candy': 3, 'tissues': 20}\n"
     ]
    }
   ],
   "source": [
    "bag = dict()\n",
    "bag['money'] = 32\n",
    "bag['candy'] = 3\n",
    "bag['tissues'] = 20\n",
    "print(bag)"
   ]
  },
  {
   "cell_type": "code",
   "execution_count": 3,
   "id": "61c987e0",
   "metadata": {},
   "outputs": [
    {
     "name": "stdout",
     "output_type": "stream",
     "text": [
      "3\n"
     ]
    }
   ],
   "source": [
    "print(bag['candy'])"
   ]
  },
  {
   "cell_type": "code",
   "execution_count": 4,
   "id": "57023351",
   "metadata": {},
   "outputs": [
    {
     "name": "stdout",
     "output_type": "stream",
     "text": [
      "{'money': 32, 'candy': 5, 'tissues': 20}\n"
     ]
    }
   ],
   "source": [
    "bag['candy'] = bag['candy'] + 2\n",
    "print(bag)"
   ]
  },
  {
   "cell_type": "markdown",
   "id": "3f0668c1",
   "metadata": {},
   "source": [
    "### 字典和列表的对比\n",
    "- 列表用[ ]，字典用 { }\n",
    "- 列表由一个个变量组成，字典由一对对Key-Value组成\n",
    "- 列表是有序的，字典是无序的\n",
    "- 列表用索引访问，字典用Key访问"
   ]
  },
  {
   "cell_type": "code",
   "execution_count": 5,
   "id": "e603a7e8",
   "metadata": {},
   "outputs": [
    {
     "name": "stdout",
     "output_type": "stream",
     "text": [
      "['Tom', 15]\n"
     ]
    }
   ],
   "source": [
    "ls = list()\n",
    "ls.append('Tom')\n",
    "ls.append(15)\n",
    "print(ls)"
   ]
  },
  {
   "cell_type": "code",
   "execution_count": 6,
   "id": "249427ae",
   "metadata": {},
   "outputs": [
    {
     "name": "stdout",
     "output_type": "stream",
     "text": [
      "['Tom', 16]\n"
     ]
    }
   ],
   "source": [
    "ls[1] = 16\n",
    "print(ls)"
   ]
  },
  {
   "cell_type": "code",
   "execution_count": 7,
   "id": "d13961e0",
   "metadata": {},
   "outputs": [
    {
     "name": "stdout",
     "output_type": "stream",
     "text": [
      "{'name': 'Tom', 'age': 15}\n"
     ]
    }
   ],
   "source": [
    "dic = dict()\n",
    "dic['name'] = 'Tom'\n",
    "dic['age'] = 15\n",
    "print(dic)"
   ]
  },
  {
   "cell_type": "code",
   "execution_count": 8,
   "id": "f56eab64",
   "metadata": {},
   "outputs": [
    {
     "name": "stdout",
     "output_type": "stream",
     "text": [
      "{'name': 'Tom', 'age': 16}\n"
     ]
    }
   ],
   "source": [
    "dic['age'] = 16\n",
    "print(dic)"
   ]
  },
  {
   "cell_type": "markdown",
   "id": "3e5b0a83",
   "metadata": {},
   "source": [
    "### 字典中的查找\n",
    "- 使用in判断字典中是否有某个Key\n",
    "- 使用`keys()`获取全部的Key\n",
    "- 使用`values()`获取全部的Value\n",
    "- 使用`items()`获取全部的Key-Value"
   ]
  },
  {
   "cell_type": "code",
   "execution_count": 9,
   "id": "fbc7b4a2",
   "metadata": {},
   "outputs": [
    {
     "name": "stdout",
     "output_type": "stream",
     "text": [
      "{'name': 'Tom', 'age': 15}\n"
     ]
    }
   ],
   "source": [
    "dic ={}\n",
    "dic['name'] = 'Tom'\n",
    "dic['age'] = 15\n",
    "print(dic)"
   ]
  },
  {
   "cell_type": "code",
   "execution_count": 10,
   "id": "41de0b7c",
   "metadata": {},
   "outputs": [
    {
     "data": {
      "text/plain": [
       "True"
      ]
     },
     "execution_count": 10,
     "metadata": {},
     "output_type": "execute_result"
    }
   ],
   "source": [
    "'name' in dic"
   ]
  },
  {
   "cell_type": "code",
   "execution_count": 11,
   "id": "11fa28f2",
   "metadata": {},
   "outputs": [
    {
     "data": {
      "text/plain": [
       "False"
      ]
     },
     "execution_count": 11,
     "metadata": {},
     "output_type": "execute_result"
    }
   ],
   "source": [
    "'gender' in dic"
   ]
  },
  {
   "cell_type": "code",
   "execution_count": 12,
   "id": "cbc0332a",
   "metadata": {},
   "outputs": [
    {
     "data": {
      "text/plain": [
       "dict_keys(['name', 'age'])"
      ]
     },
     "execution_count": 12,
     "metadata": {},
     "output_type": "execute_result"
    }
   ],
   "source": [
    "dic.keys()"
   ]
  },
  {
   "cell_type": "code",
   "execution_count": 14,
   "id": "59b68db6",
   "metadata": {},
   "outputs": [
    {
     "data": {
      "text/plain": [
       "dict_values(['Tom', 15])"
      ]
     },
     "execution_count": 14,
     "metadata": {},
     "output_type": "execute_result"
    }
   ],
   "source": [
    "dic.values()"
   ]
  },
  {
   "cell_type": "code",
   "execution_count": 15,
   "id": "e30f4939",
   "metadata": {},
   "outputs": [
    {
     "data": {
      "text/plain": [
       "dict_items([('name', 'Tom'), ('age', 15)])"
      ]
     },
     "execution_count": 15,
     "metadata": {},
     "output_type": "execute_result"
    }
   ],
   "source": [
    "dic.items()"
   ]
  },
  {
   "cell_type": "markdown",
   "id": "cf3a7e20",
   "metadata": {},
   "source": [
    "### 访问不存在的Key\n",
    "访问字典中不存在的Key将报错。使用`get()`指定默认值，避免报错。"
   ]
  },
  {
   "cell_type": "code",
   "execution_count": 16,
   "id": "af315031",
   "metadata": {},
   "outputs": [
    {
     "ename": "KeyError",
     "evalue": "'Claire'",
     "output_type": "error",
     "traceback": [
      "\u001b[1;31m---------------------------------------------------------------------------\u001b[0m",
      "\u001b[1;31mKeyError\u001b[0m                                  Traceback (most recent call last)",
      "\u001b[1;32m<ipython-input-16-22013a1788d6>\u001b[0m in \u001b[0;36m<module>\u001b[1;34m\u001b[0m\n\u001b[0;32m      1\u001b[0m \u001b[0mcounts\u001b[0m \u001b[1;33m=\u001b[0m \u001b[1;33m{\u001b[0m\u001b[1;34m'Alice'\u001b[0m\u001b[1;33m:\u001b[0m\u001b[1;36m2\u001b[0m\u001b[1;33m,\u001b[0m\u001b[1;34m'Ben'\u001b[0m\u001b[1;33m:\u001b[0m\u001b[1;36m1\u001b[0m\u001b[1;33m}\u001b[0m\u001b[1;33m\u001b[0m\u001b[1;33m\u001b[0m\u001b[0m\n\u001b[1;32m----> 2\u001b[1;33m \u001b[0mx\u001b[0m \u001b[1;33m=\u001b[0m \u001b[0mcounts\u001b[0m\u001b[1;33m[\u001b[0m\u001b[1;34m'Claire'\u001b[0m\u001b[1;33m]\u001b[0m\u001b[1;33m\u001b[0m\u001b[1;33m\u001b[0m\u001b[0m\n\u001b[0m",
      "\u001b[1;31mKeyError\u001b[0m: 'Claire'"
     ]
    }
   ],
   "source": [
    "counts = {'Alice':2,'Ben':1}\n",
    "x = counts['Claire']"
   ]
  },
  {
   "cell_type": "code",
   "execution_count": 18,
   "id": "b395d52f",
   "metadata": {},
   "outputs": [
    {
     "name": "stdout",
     "output_type": "stream",
     "text": [
      "2\n"
     ]
    }
   ],
   "source": [
    "x = counts.get('Alice',0)\n",
    "print(x)"
   ]
  },
  {
   "cell_type": "code",
   "execution_count": 19,
   "id": "bfbf1dd6",
   "metadata": {},
   "outputs": [
    {
     "name": "stdout",
     "output_type": "stream",
     "text": [
      "0\n"
     ]
    }
   ],
   "source": [
    "x = counts.get('Claire',0)\n",
    "print(x)"
   ]
  },
  {
   "cell_type": "code",
   "execution_count": null,
   "id": "6e843f56",
   "metadata": {},
   "outputs": [],
   "source": []
  }
 ],
 "metadata": {
  "kernelspec": {
   "display_name": "Python 3",
   "language": "python",
   "name": "python3"
  },
  "language_info": {
   "codemirror_mode": {
    "name": "ipython",
    "version": 3
   },
   "file_extension": ".py",
   "mimetype": "text/x-python",
   "name": "python",
   "nbconvert_exporter": "python",
   "pygments_lexer": "ipython3",
   "version": "3.8.8"
  }
 },
 "nbformat": 4,
 "nbformat_minor": 5
}
