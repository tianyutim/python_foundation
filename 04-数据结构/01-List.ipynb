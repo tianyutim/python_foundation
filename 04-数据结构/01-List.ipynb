{
 "cells": [
  {
   "cell_type": "markdown",
   "id": "31f60106",
   "metadata": {},
   "source": [
    "# 01 List"
   ]
  },
  {
   "cell_type": "markdown",
   "id": "0d8aa827",
   "metadata": {},
   "source": [
    "列表的好处：  \n",
    "（1）用一个变量就可以表示多个元素\n",
    "- 列表属于集合\n",
    "- 整数、浮点数不属于结合  \n",
    "\n",
    "（2）列表中的元素可以动态调整：增加、删除"
   ]
  },
  {
   "cell_type": "markdown",
   "id": "83617dc1",
   "metadata": {},
   "source": [
    "如何定义列表：\n",
    "- 用中括号包裹一些元素\n",
    "- 元素之间用逗号分隔\n",
    "- 列表中的元素可以是任意类型\n",
    "- 甚至可以是另一个列表\n",
    "- 列表可以是空的"
   ]
  },
  {
   "cell_type": "code",
   "execution_count": 1,
   "id": "8bec5f91",
   "metadata": {},
   "outputs": [
    {
     "name": "stdout",
     "output_type": "stream",
     "text": [
      "[1, 3, 5]\n"
     ]
    }
   ],
   "source": [
    "odd = [1,3,5]\n",
    "print(odd)"
   ]
  },
  {
   "cell_type": "code",
   "execution_count": 2,
   "id": "16e02198",
   "metadata": {},
   "outputs": [
    {
     "name": "stdout",
     "output_type": "stream",
     "text": [
      "['green', 'red', 'blue']\n"
     ]
    }
   ],
   "source": [
    "color = ['green','red','blue']\n",
    "print(color)"
   ]
  },
  {
   "cell_type": "code",
   "execution_count": 3,
   "id": "8f1ff6d9",
   "metadata": {},
   "outputs": [
    {
     "name": "stdout",
     "output_type": "stream",
     "text": [
      "['red', 13, 15.6]\n"
     ]
    }
   ],
   "source": [
    "mix = ['red',13, 15.6]\n",
    "print(mix)"
   ]
  },
  {
   "cell_type": "code",
   "execution_count": 4,
   "id": "fa57875f",
   "metadata": {},
   "outputs": [
    {
     "name": "stdout",
     "output_type": "stream",
     "text": [
      "[1, ['red', 13, 15.6], 'hello']\n"
     ]
    }
   ],
   "source": [
    "nested = [1, mix, 'hello']\n",
    "print(nested)"
   ]
  },
  {
   "cell_type": "code",
   "execution_count": 5,
   "id": "9efa36ac",
   "metadata": {},
   "outputs": [
    {
     "name": "stdout",
     "output_type": "stream",
     "text": [
      "[]\n"
     ]
    }
   ],
   "source": [
    "empty = []\n",
    "print(empty)"
   ]
  },
  {
   "cell_type": "markdown",
   "id": "6e60d935",
   "metadata": {},
   "source": [
    "使用`for`可以非常方便的遍历列表中的每一个元素。"
   ]
  },
  {
   "cell_type": "code",
   "execution_count": 7,
   "id": "e1c2c420",
   "metadata": {},
   "outputs": [
    {
     "name": "stdout",
     "output_type": "stream",
     "text": [
      "Happy New Year:  Joseph\n",
      "Happy New Year:  Glenn\n",
      "Happy New Year:  Sally\n",
      "Done!\n"
     ]
    }
   ],
   "source": [
    "friends = ['Joseph','Glenn','Sally']\n",
    "\n",
    "for friend in friends:\n",
    "    print('Happy New Year: ', friend)\n",
    "\n",
    "print('Done!')"
   ]
  },
  {
   "cell_type": "markdown",
   "id": "6da36640",
   "metadata": {},
   "source": [
    "### 索引"
   ]
  },
  {
   "cell_type": "markdown",
   "id": "202d4ddd",
   "metadata": {},
   "source": [
    "使用索引操作列表中的元素：\n",
    "- 好比队伍中每个人的编号\n",
    "- 索引也称作下标，从0开始\n",
    "- 通过索引可以获取列表中的元素\n",
    "- 通过索引可以修改列表中的元素"
   ]
  },
  {
   "cell_type": "code",
   "execution_count": 9,
   "id": "393f065e",
   "metadata": {},
   "outputs": [
    {
     "name": "stdout",
     "output_type": "stream",
     "text": [
      "Glenn\n"
     ]
    }
   ],
   "source": [
    "friends = ['Joseph','Glenn','Sally']\n",
    "print(friends[1])"
   ]
  },
  {
   "cell_type": "code",
   "execution_count": 10,
   "id": "18a537b8",
   "metadata": {},
   "outputs": [
    {
     "name": "stdout",
     "output_type": "stream",
     "text": [
      "['Joseph', 'Ben', 'Sally']\n"
     ]
    }
   ],
   "source": [
    "friends[1] = 'Ben'\n",
    "print(friends)"
   ]
  },
  {
   "cell_type": "markdown",
   "id": "7b7eeef3",
   "metadata": {},
   "source": [
    "### 长度"
   ]
  },
  {
   "cell_type": "markdown",
   "id": "d1c4b6ef",
   "metadata": {},
   "source": [
    "使用`len()`获取列表的长度。\n",
    "- 得到一个整数，即列表中元素的个数。\n",
    "- `len()`也可以用到获取字典和字符串的长度"
   ]
  },
  {
   "cell_type": "code",
   "execution_count": 11,
   "id": "5ef0d24f",
   "metadata": {},
   "outputs": [
    {
     "name": "stdout",
     "output_type": "stream",
     "text": [
      "4\n"
     ]
    }
   ],
   "source": [
    "ls = [1,2,'joe',2.5]\n",
    "print(len(ls))"
   ]
  },
  {
   "cell_type": "markdown",
   "id": "11bcdc7e",
   "metadata": {},
   "source": [
    "搭配使用`len()`和`range()`\n",
    "- 遍历列表的两种常用方法\n",
    "- 第一种只能读不能改"
   ]
  },
  {
   "cell_type": "code",
   "execution_count": 12,
   "id": "17d54849",
   "metadata": {},
   "outputs": [
    {
     "name": "stdout",
     "output_type": "stream",
     "text": [
      "Happy New Year:  Joseph\n",
      "Happy New Year:  Glenn\n",
      "Happy New Year:  Sally\n"
     ]
    }
   ],
   "source": [
    "friends = ['Joseph','Glenn','Sally']\n",
    "\n",
    "for friend in friends:\n",
    "    print('Happy New Year: ', friend)"
   ]
  },
  {
   "cell_type": "code",
   "execution_count": 13,
   "id": "a393e3ba",
   "metadata": {},
   "outputs": [
    {
     "name": "stdout",
     "output_type": "stream",
     "text": [
      "Happy New Year:  Joseph\n",
      "Happy New Year:  Glenn\n",
      "Happy New Year:  Sally\n"
     ]
    }
   ],
   "source": [
    "for i in range(len(friends)):\n",
    "    friend = friends[i]\n",
    "    print('Happy New Year: ', friend)"
   ]
  },
  {
   "cell_type": "markdown",
   "id": "e56e4957",
   "metadata": {},
   "source": [
    "### 列表的加法和乘法\n",
    "- 列表+列表：链接\n",
    "- 列表*整数：重复"
   ]
  },
  {
   "cell_type": "code",
   "execution_count": 15,
   "id": "0f4f3fac",
   "metadata": {},
   "outputs": [
    {
     "name": "stdout",
     "output_type": "stream",
     "text": [
      "[1, 1.5, 2, 'You', 'He', 'She']\n"
     ]
    }
   ],
   "source": [
    "numbers = [1,1.5,2]\n",
    "words = ['You','He','She']\n",
    "print(numbers+words)"
   ]
  },
  {
   "cell_type": "code",
   "execution_count": 16,
   "id": "e07c8b06",
   "metadata": {},
   "outputs": [
    {
     "name": "stdout",
     "output_type": "stream",
     "text": [
      "[1, 1.5, 2, 1, 1.5, 2, 1, 1.5, 2]\n",
      "['You', 'He', 'She', 'You', 'He', 'She', 'You', 'He', 'She']\n"
     ]
    }
   ],
   "source": [
    "print(numbers * 3)\n",
    "print(3 * words)"
   ]
  },
  {
   "cell_type": "markdown",
   "id": "994efd37",
   "metadata": {},
   "source": [
    "### 列表的分片（slice）\n",
    "使用冒号进行分片"
   ]
  },
  {
   "cell_type": "code",
   "execution_count": 17,
   "id": "2c0a01cb",
   "metadata": {},
   "outputs": [
    {
     "data": {
      "text/plain": [
       "[41, 12]"
      ]
     },
     "execution_count": 17,
     "metadata": {},
     "output_type": "execute_result"
    }
   ],
   "source": [
    "# 使用两个索引，包括前面的索引，但不包括后面的索引\n",
    "t = [9,41,12,3,74,14]\n",
    "t[1:3]"
   ]
  },
  {
   "cell_type": "code",
   "execution_count": 18,
   "id": "d1700806",
   "metadata": {},
   "outputs": [
    {
     "data": {
      "text/plain": [
       "[9, 41, 12, 3]"
      ]
     },
     "execution_count": 18,
     "metadata": {},
     "output_type": "execute_result"
    }
   ],
   "source": [
    "# 只使用一个索引\n",
    "t[:4]"
   ]
  },
  {
   "cell_type": "code",
   "execution_count": 20,
   "id": "9099e01d",
   "metadata": {},
   "outputs": [
    {
     "data": {
      "text/plain": [
       "[3, 74, 14]"
      ]
     },
     "execution_count": 20,
     "metadata": {},
     "output_type": "execute_result"
    }
   ],
   "source": [
    "t[3:]"
   ]
  },
  {
   "cell_type": "code",
   "execution_count": 22,
   "id": "d5294ce7",
   "metadata": {},
   "outputs": [
    {
     "data": {
      "text/plain": [
       "[9, 41, 12, 3, 74, 14]"
      ]
     },
     "execution_count": 22,
     "metadata": {},
     "output_type": "execute_result"
    }
   ],
   "source": [
    "t[:]"
   ]
  },
  {
   "cell_type": "code",
   "execution_count": 23,
   "id": "62c1063e",
   "metadata": {},
   "outputs": [
    {
     "name": "stdout",
     "output_type": "stream",
     "text": [
      "[41, 12, 3, 74]\n"
     ]
    }
   ],
   "source": [
    "# 使用负索引\n",
    "t1 = t[1:-1]\n",
    "print(t1)"
   ]
  },
  {
   "cell_type": "markdown",
   "id": "f5b72b8b",
   "metadata": {},
   "source": [
    "### 添加元素"
   ]
  },
  {
   "cell_type": "markdown",
   "id": "7786434f",
   "metadata": {},
   "source": [
    "从零开始添加元素：\n",
    "- 定义一个空列表\n",
    "- 使用`append()`添加元素\n",
    "- 使用`remove()`删除元素\n",
    "- 使用`sort()`进行排序"
   ]
  },
  {
   "cell_type": "code",
   "execution_count": 30,
   "id": "b1cf4baf",
   "metadata": {},
   "outputs": [
    {
     "name": "stdout",
     "output_type": "stream",
     "text": [
      "[]\n"
     ]
    }
   ],
   "source": [
    "mylist = []\n",
    "print(mylist)"
   ]
  },
  {
   "cell_type": "code",
   "execution_count": 31,
   "id": "45f54a54",
   "metadata": {},
   "outputs": [
    {
     "name": "stdout",
     "output_type": "stream",
     "text": [
      "['Hello', 99]\n"
     ]
    }
   ],
   "source": [
    "mylist.append('Hello')\n",
    "mylist.append(99)\n",
    "print(mylist)"
   ]
  },
  {
   "cell_type": "code",
   "execution_count": 32,
   "id": "b77c83ce",
   "metadata": {},
   "outputs": [
    {
     "name": "stdout",
     "output_type": "stream",
     "text": [
      "['Hello', 99, 'Nice']\n"
     ]
    }
   ],
   "source": [
    "mylist.append('Nice')\n",
    "print(mylist)"
   ]
  },
  {
   "cell_type": "code",
   "execution_count": 33,
   "id": "bcb1827a",
   "metadata": {},
   "outputs": [
    {
     "name": "stdout",
     "output_type": "stream",
     "text": [
      "['Hello', 'Nice']\n"
     ]
    }
   ],
   "source": [
    "mylist.remove(99)\n",
    "print(mylist)"
   ]
  },
  {
   "cell_type": "code",
   "execution_count": 35,
   "id": "b26dbcc0",
   "metadata": {},
   "outputs": [
    {
     "name": "stdout",
     "output_type": "stream",
     "text": [
      "[2, 6, 8, 12, 21, 53]\n"
     ]
    }
   ],
   "source": [
    "numbers = [6,12,8,53,21,2]\n",
    "numbers.sort()\n",
    "print(numbers)"
   ]
  },
  {
   "cell_type": "code",
   "execution_count": 36,
   "id": "76564a0e",
   "metadata": {},
   "outputs": [
    {
     "name": "stdout",
     "output_type": "stream",
     "text": [
      "['Glenn', 'Joseph', 'Sally']\n"
     ]
    }
   ],
   "source": [
    "friends = ['Joseph','Glenn','Sally']\n",
    "friends.sort()\n",
    "print(friends)"
   ]
  },
  {
   "cell_type": "markdown",
   "id": "a663ff1c",
   "metadata": {},
   "source": [
    "### 在列表中查找元素"
   ]
  },
  {
   "cell_type": "markdown",
   "id": "53c6579f",
   "metadata": {},
   "source": [
    "- 使用`in`判断元素是否在列表中\n",
    "- 使用`not in`判断元素是否不在列表中\n",
    "- 以上判断不会改变列表中的元素"
   ]
  },
  {
   "cell_type": "code",
   "execution_count": 37,
   "id": "f797edb9",
   "metadata": {},
   "outputs": [
    {
     "data": {
      "text/plain": [
       "True"
      ]
     },
     "execution_count": 37,
     "metadata": {},
     "output_type": "execute_result"
    }
   ],
   "source": [
    "some = [1,9,21,10,16]\n",
    "9 in some"
   ]
  },
  {
   "cell_type": "code",
   "execution_count": 38,
   "id": "93a74ab8",
   "metadata": {},
   "outputs": [
    {
     "data": {
      "text/plain": [
       "False"
      ]
     },
     "execution_count": 38,
     "metadata": {},
     "output_type": "execute_result"
    }
   ],
   "source": [
    "15 in some"
   ]
  },
  {
   "cell_type": "code",
   "execution_count": 39,
   "id": "b5a5bb3d",
   "metadata": {},
   "outputs": [
    {
     "data": {
      "text/plain": [
       "True"
      ]
     },
     "execution_count": 39,
     "metadata": {},
     "output_type": "execute_result"
    }
   ],
   "source": [
    "15 not in some"
   ]
  },
  {
   "cell_type": "markdown",
   "id": "90aa191b",
   "metadata": {},
   "source": [
    "### 通过input()向列表中输入元素"
   ]
  },
  {
   "cell_type": "code",
   "execution_count": 42,
   "id": "fff2faec",
   "metadata": {},
   "outputs": [
    {
     "name": "stdout",
     "output_type": "stream",
     "text": [
      "Enter a number: 10\n",
      "Enter a number: 7\n",
      "Enter a number: 98\n",
      "Enter a number: 103\n",
      "Enter a number: done\n",
      "Average:  54.5\n"
     ]
    }
   ],
   "source": [
    "numlist = list()\n",
    "\n",
    "while True:\n",
    "    inp = input('Enter a number: ')\n",
    "    if inp == 'done':\n",
    "        break\n",
    "    value = float(inp)\n",
    "    numlist.append(value)\n",
    "\n",
    "average = sum(numlist)/len(numlist)\n",
    "print('Average: ', average)"
   ]
  },
  {
   "cell_type": "code",
   "execution_count": null,
   "id": "28e6aba8",
   "metadata": {},
   "outputs": [],
   "source": []
  }
 ],
 "metadata": {
  "kernelspec": {
   "display_name": "Python 3",
   "language": "python",
   "name": "python3"
  },
  "language_info": {
   "codemirror_mode": {
    "name": "ipython",
    "version": 3
   },
   "file_extension": ".py",
   "mimetype": "text/x-python",
   "name": "python",
   "nbconvert_exporter": "python",
   "pygments_lexer": "ipython3",
   "version": "3.8.8"
  }
 },
 "nbformat": 4,
 "nbformat_minor": 5
}
