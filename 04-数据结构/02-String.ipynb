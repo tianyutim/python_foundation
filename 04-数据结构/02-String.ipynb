{
 "cells": [
  {
   "cell_type": "markdown",
   "id": "113578e5",
   "metadata": {},
   "source": [
    "# 02 String"
   ]
  },
  {
   "cell_type": "markdown",
   "id": "73d53747",
   "metadata": {},
   "source": [
    "### 字符串：引号中的文本\n",
    "- 可以是单引号、双引号、三引号\n",
    "- 字符串中可以包括任意内容（字母、数字、汉字、符号）\n",
    "- 如果不用换行，用单引号即可"
   ]
  },
  {
   "cell_type": "code",
   "execution_count": 1,
   "id": "35801701",
   "metadata": {},
   "outputs": [],
   "source": [
    "s1 = 'Hello World'\n",
    "s2 = \"Hellp World\"\n",
    "s3 = '''Hello\n",
    "World'''\n",
    "s4 = \"\"\"Hello\n",
    "World\"\"\""
   ]
  },
  {
   "cell_type": "markdown",
   "id": "53d85b28",
   "metadata": {},
   "source": [
    "字符串和列表有些类似：\n",
    "- 字符串由很多个字符组成\n",
    "- 列表由很多个变量组成\n",
    "- 对字符串使用`len()`\n",
    "- 对字符串使用索引，只能读不能改"
   ]
  },
  {
   "cell_type": "code",
   "execution_count": 2,
   "id": "540e32c2",
   "metadata": {},
   "outputs": [
    {
     "name": "stdout",
     "output_type": "stream",
     "text": [
      "5 5\n"
     ]
    }
   ],
   "source": [
    "mystr = 'Hello'\n",
    "mylist = ['H','e','l','l','o']\n",
    "print(len(mystr),len(mylist))"
   ]
  },
  {
   "cell_type": "code",
   "execution_count": 3,
   "id": "6e24dc14",
   "metadata": {},
   "outputs": [
    {
     "name": "stdout",
     "output_type": "stream",
     "text": [
      "l\n"
     ]
    }
   ],
   "source": [
    "print(mystr[2])"
   ]
  },
  {
   "cell_type": "code",
   "execution_count": 4,
   "id": "4c63c6a8",
   "metadata": {},
   "outputs": [
    {
     "ename": "TypeError",
     "evalue": "'str' object does not support item assignment",
     "output_type": "error",
     "traceback": [
      "\u001b[1;31m---------------------------------------------------------------------------\u001b[0m",
      "\u001b[1;31mTypeError\u001b[0m                                 Traceback (most recent call last)",
      "\u001b[1;32m<ipython-input-4-748fa3e3b7d1>\u001b[0m in \u001b[0;36m<module>\u001b[1;34m\u001b[0m\n\u001b[1;32m----> 1\u001b[1;33m \u001b[0mmystr\u001b[0m\u001b[1;33m[\u001b[0m\u001b[1;36m2\u001b[0m\u001b[1;33m]\u001b[0m \u001b[1;33m=\u001b[0m \u001b[1;34m'X'\u001b[0m\u001b[1;33m\u001b[0m\u001b[1;33m\u001b[0m\u001b[0m\n\u001b[0m\u001b[0;32m      2\u001b[0m \u001b[0mprint\u001b[0m\u001b[1;33m(\u001b[0m\u001b[0mmystr\u001b[0m\u001b[1;33m)\u001b[0m\u001b[1;33m\u001b[0m\u001b[1;33m\u001b[0m\u001b[0m\n",
      "\u001b[1;31mTypeError\u001b[0m: 'str' object does not support item assignment"
     ]
    }
   ],
   "source": [
    "mystr[2] = 'X'\n",
    "print(mystr)"
   ]
  },
  {
   "cell_type": "markdown",
   "id": "a7d27bdb",
   "metadata": {},
   "source": [
    "### 查找"
   ]
  },
  {
   "cell_type": "markdown",
   "id": "e79f5183",
   "metadata": {},
   "source": [
    "使用`find()`在字符串中查找：\n",
    "- 可以查找某个字符\n",
    "- 如果找到，则返回第一次出现的索引\n",
    "- 也可以查找某个更短的字符串\n",
    "- 如果没有找到，则返回-1"
   ]
  },
  {
   "cell_type": "code",
   "execution_count": 5,
   "id": "ca0d5708",
   "metadata": {},
   "outputs": [
    {
     "name": "stdout",
     "output_type": "stream",
     "text": [
      "0\n"
     ]
    }
   ],
   "source": [
    "s = 'banana'\n",
    "pos = s.find('b')\n",
    "print(pos)"
   ]
  },
  {
   "cell_type": "code",
   "execution_count": 6,
   "id": "e6224076",
   "metadata": {},
   "outputs": [
    {
     "name": "stdout",
     "output_type": "stream",
     "text": [
      "2\n"
     ]
    }
   ],
   "source": [
    "pos = s.find('n')\n",
    "print(pos)"
   ]
  },
  {
   "cell_type": "code",
   "execution_count": 7,
   "id": "46c25181",
   "metadata": {},
   "outputs": [
    {
     "name": "stdout",
     "output_type": "stream",
     "text": [
      "1\n"
     ]
    }
   ],
   "source": [
    "pos = s.find('ana')\n",
    "print(pos)"
   ]
  },
  {
   "cell_type": "code",
   "execution_count": 8,
   "id": "584cf65a",
   "metadata": {},
   "outputs": [
    {
     "name": "stdout",
     "output_type": "stream",
     "text": [
      "-1\n"
     ]
    }
   ],
   "source": [
    "pos = s.find('bnb')\n",
    "print(pos)"
   ]
  },
  {
   "cell_type": "markdown",
   "id": "ffc31b19",
   "metadata": {},
   "source": [
    "### 分片"
   ]
  },
  {
   "cell_type": "markdown",
   "id": "d216b78b",
   "metadata": {},
   "source": [
    "字符串的分片和列表完全相同：\n",
    "- 使用冒号进行分片\n",
    "- 使用两个索引（包括前面的索引，但不包括后面的索引）\n",
    "- 只使用一个索引\n",
    "- 使用负索引"
   ]
  },
  {
   "cell_type": "code",
   "execution_count": 10,
   "id": "8714dd3f",
   "metadata": {},
   "outputs": [
    {
     "data": {
      "text/plain": [
       "'el'"
      ]
     },
     "execution_count": 10,
     "metadata": {},
     "output_type": "execute_result"
    }
   ],
   "source": [
    "s = 'Hello World'\n",
    "s[1:3]"
   ]
  },
  {
   "cell_type": "code",
   "execution_count": 11,
   "id": "939fab1f",
   "metadata": {},
   "outputs": [
    {
     "data": {
      "text/plain": [
       "'Hell'"
      ]
     },
     "execution_count": 11,
     "metadata": {},
     "output_type": "execute_result"
    }
   ],
   "source": [
    "s[:4]"
   ]
  },
  {
   "cell_type": "code",
   "execution_count": 13,
   "id": "6ce7bae0",
   "metadata": {},
   "outputs": [
    {
     "data": {
      "text/plain": [
       "'lo World'"
      ]
     },
     "execution_count": 13,
     "metadata": {},
     "output_type": "execute_result"
    }
   ],
   "source": [
    "s[3:]"
   ]
  },
  {
   "cell_type": "code",
   "execution_count": 14,
   "id": "0befecd0",
   "metadata": {},
   "outputs": [
    {
     "data": {
      "text/plain": [
       "'Hello World'"
      ]
     },
     "execution_count": 14,
     "metadata": {},
     "output_type": "execute_result"
    }
   ],
   "source": [
    "s[:]"
   ]
  },
  {
   "cell_type": "code",
   "execution_count": 15,
   "id": "896e485b",
   "metadata": {},
   "outputs": [
    {
     "name": "stdout",
     "output_type": "stream",
     "text": [
      "ello Worl\n"
     ]
    }
   ],
   "source": [
    "s1 = s[1:-1]\n",
    "print(s1)"
   ]
  },
  {
   "cell_type": "markdown",
   "id": "5114446f",
   "metadata": {},
   "source": [
    "### 加法和乘法\n",
    "- 字符串+字符串：连接\n",
    "- 字符串+整数：重复"
   ]
  },
  {
   "cell_type": "code",
   "execution_count": 17,
   "id": "64db8b9f",
   "metadata": {},
   "outputs": [
    {
     "data": {
      "text/plain": [
       "'Hello World'"
      ]
     },
     "execution_count": 17,
     "metadata": {},
     "output_type": "execute_result"
    }
   ],
   "source": [
    "'Hello ' + 'World'"
   ]
  },
  {
   "cell_type": "code",
   "execution_count": 19,
   "id": "823be44c",
   "metadata": {},
   "outputs": [
    {
     "data": {
      "text/plain": [
       "'HelloHelloHello'"
      ]
     },
     "execution_count": 19,
     "metadata": {},
     "output_type": "execute_result"
    }
   ],
   "source": [
    "'Hello' * 3"
   ]
  },
  {
   "cell_type": "code",
   "execution_count": 20,
   "id": "9f9a412f",
   "metadata": {},
   "outputs": [
    {
     "data": {
      "text/plain": [
       "'World World World '"
      ]
     },
     "execution_count": 20,
     "metadata": {},
     "output_type": "execute_result"
    }
   ],
   "source": [
    "3 * 'World '"
   ]
  },
  {
   "cell_type": "markdown",
   "id": "b9e3117f",
   "metadata": {},
   "source": [
    "### 分割和合并\n",
    "- 使用`split()`分割字符串，结果为列表\n",
    "- 使用`join()`合并列表，结果为字符串\n",
    "- 列表中每个元素都应当是字符串"
   ]
  },
  {
   "cell_type": "code",
   "execution_count": 21,
   "id": "aa241465",
   "metadata": {},
   "outputs": [
    {
     "data": {
      "text/plain": [
       "['Hello', 'My', 'World']"
      ]
     },
     "execution_count": 21,
     "metadata": {},
     "output_type": "execute_result"
    }
   ],
   "source": [
    "s = 'Hello My World'\n",
    "s.split()"
   ]
  },
  {
   "cell_type": "code",
   "execution_count": 22,
   "id": "7fef4d9c",
   "metadata": {},
   "outputs": [
    {
     "data": {
      "text/plain": [
       "['He', '', 'o My Wor', 'd']"
      ]
     },
     "execution_count": 22,
     "metadata": {},
     "output_type": "execute_result"
    }
   ],
   "source": [
    "s.split('l')"
   ]
  },
  {
   "cell_type": "code",
   "execution_count": 23,
   "id": "e93894ab",
   "metadata": {},
   "outputs": [
    {
     "data": {
      "text/plain": [
       "['Hello My World']"
      ]
     },
     "execution_count": 23,
     "metadata": {},
     "output_type": "execute_result"
    }
   ],
   "source": [
    "s.split('x')"
   ]
  },
  {
   "cell_type": "code",
   "execution_count": 24,
   "id": "95cc26ea",
   "metadata": {},
   "outputs": [
    {
     "data": {
      "text/plain": [
       "['Hel', ' My World']"
      ]
     },
     "execution_count": 24,
     "metadata": {},
     "output_type": "execute_result"
    }
   ],
   "source": [
    "s.split('lo')"
   ]
  },
  {
   "cell_type": "code",
   "execution_count": 29,
   "id": "75ca36d1",
   "metadata": {},
   "outputs": [
    {
     "data": {
      "text/plain": [
       "'You He She'"
      ]
     },
     "execution_count": 29,
     "metadata": {},
     "output_type": "execute_result"
    }
   ],
   "source": [
    "' '.join(['You','He','She'])"
   ]
  },
  {
   "cell_type": "code",
   "execution_count": 30,
   "id": "17197eb3",
   "metadata": {},
   "outputs": [
    {
     "data": {
      "text/plain": [
       "'You*He*She'"
      ]
     },
     "execution_count": 30,
     "metadata": {},
     "output_type": "execute_result"
    }
   ],
   "source": [
    "'*'.join(['You','He','She'])"
   ]
  },
  {
   "cell_type": "markdown",
   "id": "dff39446",
   "metadata": {},
   "source": [
    "### 大小写转换\n",
    "- 使用`upper()`将字母转大写\n",
    "- 使用`lower()`将字母转小写\n",
    "- 使用`capitalize()`将首字母转大写"
   ]
  },
  {
   "cell_type": "code",
   "execution_count": 32,
   "id": "66441167",
   "metadata": {},
   "outputs": [
    {
     "name": "stdout",
     "output_type": "stream",
     "text": [
      "HELLO 你好\n"
     ]
    }
   ],
   "source": [
    "s = 'Hello 你好'\n",
    "upper = s.upper()\n",
    "print(upper)"
   ]
  },
  {
   "cell_type": "code",
   "execution_count": 33,
   "id": "da4afd5c",
   "metadata": {},
   "outputs": [
    {
     "name": "stdout",
     "output_type": "stream",
     "text": [
      "hello 你好\n"
     ]
    }
   ],
   "source": [
    "lower = s.lower()\n",
    "print(lower)"
   ]
  },
  {
   "cell_type": "code",
   "execution_count": 34,
   "id": "59d0e076",
   "metadata": {},
   "outputs": [
    {
     "name": "stdout",
     "output_type": "stream",
     "text": [
      "Hello 你好\n"
     ]
    }
   ],
   "source": [
    "print(lower.capitalize())"
   ]
  }
 ],
 "metadata": {
  "kernelspec": {
   "display_name": "Python 3",
   "language": "python",
   "name": "python3"
  },
  "language_info": {
   "codemirror_mode": {
    "name": "ipython",
    "version": 3
   },
   "file_extension": ".py",
   "mimetype": "text/x-python",
   "name": "python",
   "nbconvert_exporter": "python",
   "pygments_lexer": "ipython3",
   "version": "3.8.8"
  }
 },
 "nbformat": 4,
 "nbformat_minor": 5
}
