{
 "cells": [
  {
   "cell_type": "markdown",
   "id": "b6dc2e44",
   "metadata": {},
   "source": [
    "# 01 条件"
   ]
  },
  {
   "cell_type": "markdown",
   "id": "cfe778c8",
   "metadata": {},
   "source": [
    "### 使用条件"
   ]
  },
  {
   "cell_type": "markdown",
   "id": "3c978a6a",
   "metadata": {},
   "source": [
    "通过条件判断，如果满足某个条件，则运行对应的代码。"
   ]
  },
  {
   "cell_type": "code",
   "execution_count": 1,
   "id": "58c0e3ee",
   "metadata": {},
   "outputs": [
    {
     "name": "stdout",
     "output_type": "stream",
     "text": [
      "Smaller\n",
      "Finish\n"
     ]
    }
   ],
   "source": [
    "x = 5\n",
    "if x < 10:\n",
    "    print('Smaller')\n",
    "if x > 20:\n",
    "    print('Bigger')\n",
    "\n",
    "print('Finish')"
   ]
  },
  {
   "cell_type": "markdown",
   "id": "9d81101d",
   "metadata": {},
   "source": [
    "### 布尔类型"
   ]
  },
  {
   "cell_type": "markdown",
   "id": "ce8dfaca",
   "metadata": {},
   "source": [
    "布尔类型只有两种取值：True和False。True表示条件成立，False表示不成立。"
   ]
  },
  {
   "cell_type": "code",
   "execution_count": 2,
   "id": "421b49e3",
   "metadata": {},
   "outputs": [
    {
     "data": {
      "text/plain": [
       "bool"
      ]
     },
     "execution_count": 2,
     "metadata": {},
     "output_type": "execute_result"
    }
   ],
   "source": [
    "passed = True\n",
    "type(passed)"
   ]
  },
  {
   "cell_type": "code",
   "execution_count": 3,
   "id": "044f0eed",
   "metadata": {},
   "outputs": [
    {
     "data": {
      "text/plain": [
       "bool"
      ]
     },
     "execution_count": 3,
     "metadata": {},
     "output_type": "execute_result"
    }
   ],
   "source": [
    "passed = False\n",
    "type(passed)"
   ]
  },
  {
   "cell_type": "markdown",
   "id": "561e2689",
   "metadata": {},
   "source": [
    "### 比较运算"
   ]
  },
  {
   "cell_type": "markdown",
   "id": "76bd74ce",
   "metadata": {},
   "source": [
    "通过比较得出真假。布尔表达式使用比较运算符并产生一个True或False。\n",
    "和算数运算符一样，比较运算符不会改变变量的值。"
   ]
  },
  {
   "cell_type": "markdown",
   "id": "4deb1c3b",
   "metadata": {},
   "source": [
    "|  符号  | 含义  |\n",
    "|  ----  | ----  |\n",
    "| < | 小于 |\n",
    "| <= | 小于或等于 |\n",
    "| == | 等于 |\n",
    "| >= | 大于或等于 |\n",
    "| > | 大于 |\n",
    "| != | 不等于 |"
   ]
  },
  {
   "cell_type": "code",
   "execution_count": 7,
   "id": "32a8844b",
   "metadata": {},
   "outputs": [
    {
     "name": "stdout",
     "output_type": "stream",
     "text": [
      "True\n"
     ]
    }
   ],
   "source": [
    "x = 5\n",
    "print(x==5)"
   ]
  },
  {
   "cell_type": "code",
   "execution_count": 8,
   "id": "00d824d4",
   "metadata": {},
   "outputs": [
    {
     "name": "stdout",
     "output_type": "stream",
     "text": [
      "True\n"
     ]
    }
   ],
   "source": [
    "print( x>4 )"
   ]
  },
  {
   "cell_type": "code",
   "execution_count": 9,
   "id": "2a91de11",
   "metadata": {},
   "outputs": [
    {
     "name": "stdout",
     "output_type": "stream",
     "text": [
      "True\n"
     ]
    }
   ],
   "source": [
    "print(x!=6)"
   ]
  },
  {
   "cell_type": "code",
   "execution_count": 10,
   "id": "acaa2b90",
   "metadata": {},
   "outputs": [
    {
     "name": "stdout",
     "output_type": "stream",
     "text": [
      "5\n"
     ]
    }
   ],
   "source": [
    "print(x)"
   ]
  },
  {
   "cell_type": "markdown",
   "id": "9dd4aa05",
   "metadata": {},
   "source": [
    "### 比较+条件"
   ]
  },
  {
   "cell_type": "markdown",
   "id": "acc9aeec",
   "metadata": {},
   "source": [
    "将比较结果作为条件，比较结果为True则条件成立，并执行对应的代码。比较结果为False则条件不成立，不执行对应的代码。"
   ]
  },
  {
   "cell_type": "code",
   "execution_count": 11,
   "id": "557d417d",
   "metadata": {},
   "outputs": [
    {
     "name": "stdout",
     "output_type": "stream",
     "text": [
      "Equal to 5\n",
      "Greater than 4\n",
      "Greater than or Equal to 5\n",
      "Less than 6\n",
      "Less than or Equal to 5\n",
      "Not Equal to 6\n"
     ]
    }
   ],
   "source": [
    "x = 5\n",
    "if x == 5:\n",
    "    print('Equal to 5')\n",
    "if x > 4:\n",
    "    print('Greater than 4')\n",
    "if x <= 5:\n",
    "    print('Greater than or Equal to 5')\n",
    "if x < 6:\n",
    "    print('Less than 6')\n",
    "if x <= 5:\n",
    "    print('Less than or Equal to 5')\n",
    "if x != 6:\n",
    "    print('Not Equal to 6')"
   ]
  },
  {
   "cell_type": "markdown",
   "id": "892133ff",
   "metadata": {},
   "source": [
    "### 缩进"
   ]
  },
  {
   "cell_type": "markdown",
   "id": "4433b2f8",
   "metadata": {},
   "source": [
    "在Python中，缩进决定了代码结果。一层缩进即一个tab,或四个空格（推荐使用四个空格）。在if的冒号之后，增加一层缩进表示代码块的开始。  \n",
    "  \n",
    "保持缩进，表示代码块的继续。空行将被忽略，不影响缩进。减少一层缩进，表示代码块的结束。"
   ]
  },
  {
   "cell_type": "markdown",
   "id": "cfbc8a25",
   "metadata": {},
   "source": [
    " ### 嵌套条件"
   ]
  },
  {
   "cell_type": "code",
   "execution_count": 18,
   "id": "3462f131",
   "metadata": {},
   "outputs": [
    {
     "name": "stdout",
     "output_type": "stream",
     "text": [
      "More than one\n",
      "Less than 100\n",
      "All done\n"
     ]
    }
   ],
   "source": [
    "x = 42\n",
    "if x > 1:\n",
    "    print('More than one')\n",
    "    if x < 100:\n",
    "        print('Less than 100')\n",
    "print('All done')"
   ]
  },
  {
   "cell_type": "markdown",
   "id": "1c02b9f3",
   "metadata": {},
   "source": [
    "### 双路判断"
   ]
  },
  {
   "cell_type": "markdown",
   "id": "55f75979",
   "metadata": {},
   "source": [
    "使用`else`：处理条件不成立的情况。"
   ]
  },
  {
   "cell_type": "code",
   "execution_count": 20,
   "id": "327890fb",
   "metadata": {},
   "outputs": [
    {
     "name": "stdout",
     "output_type": "stream",
     "text": [
      "Bigger\n",
      "All done\n"
     ]
    }
   ],
   "source": [
    "x = 4\n",
    "if x > 2:\n",
    "    print('Bigger')\n",
    "else:\n",
    "    print('Not Bigger')\n",
    "print('All done')"
   ]
  },
  {
   "cell_type": "markdown",
   "id": "72949b5a",
   "metadata": {},
   "source": [
    "### 多路判断"
   ]
  },
  {
   "cell_type": "markdown",
   "id": "567da134",
   "metadata": {},
   "source": [
    "使用`elif`：第一个条件不成立，继续使用其他条件。"
   ]
  },
  {
   "cell_type": "code",
   "execution_count": 22,
   "id": "8bdc9d9a",
   "metadata": {},
   "outputs": [
    {
     "name": "stdout",
     "output_type": "stream",
     "text": [
      "Medium\n",
      "All done\n"
     ]
    }
   ],
   "source": [
    "x = 4\n",
    "if x < 2:\n",
    "    print('Small')\n",
    "elif x < 10:\n",
    "    print('Medium')\n",
    "else:\n",
    "    print('Large')\n",
    "print('All done')"
   ]
  },
  {
   "cell_type": "code",
   "execution_count": null,
   "id": "04d1c9fc",
   "metadata": {},
   "outputs": [],
   "source": []
  }
 ],
 "metadata": {
  "kernelspec": {
   "display_name": "Python 3",
   "language": "python",
   "name": "python3"
  },
  "language_info": {
   "codemirror_mode": {
    "name": "ipython",
    "version": 3
   },
   "file_extension": ".py",
   "mimetype": "text/x-python",
   "name": "python",
   "nbconvert_exporter": "python",
   "pygments_lexer": "ipython3",
   "version": "3.8.8"
  }
 },
 "nbformat": 4,
 "nbformat_minor": 5
}
