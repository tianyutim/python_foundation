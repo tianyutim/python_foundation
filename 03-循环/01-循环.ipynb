{
 "cells": [
  {
   "cell_type": "markdown",
   "id": "2a55d1ed",
   "metadata": {},
   "source": [
    "# 01 循环"
   ]
  },
  {
   "cell_type": "markdown",
   "id": "fa459fb5",
   "metadata": {},
   "source": [
    "编程中，对于一些重复类似的操作使用循环可以大大提高编程的效率。"
   ]
  },
  {
   "cell_type": "markdown",
   "id": "fdcf0c8f",
   "metadata": {},
   "source": [
    "## 1.1 while循环"
   ]
  },
  {
   "cell_type": "markdown",
   "id": "a00077e5",
   "metadata": {},
   "source": [
    "条件成立则循环：\n",
    "- 进行初始化\n",
    "- 判断条件是否成立\n",
    "- 若成立则执行循环中的代码\n",
    "- 若不成立则结束循环"
   ]
  },
  {
   "cell_type": "code",
   "execution_count": 2,
   "id": "a789d6e0",
   "metadata": {},
   "outputs": [
    {
     "name": "stdout",
     "output_type": "stream",
     "text": [
      "5\n",
      "4\n",
      "3\n",
      "2\n",
      "1\n",
      "Blastoff\n",
      "0\n"
     ]
    }
   ],
   "source": [
    "n = 5\n",
    "while n > 0:\n",
    "    print(n)\n",
    "    n = n-1\n",
    "\n",
    "print('Blastoff')\n",
    "print(n)"
   ]
  },
  {
   "cell_type": "markdown",
   "id": "8985bc3f",
   "metadata": {},
   "source": [
    "### 加点延时"
   ]
  },
  {
   "cell_type": "markdown",
   "id": "c44242ff",
   "metadata": {},
   "source": [
    "使用`time`模块：`time`模块提供了和时间相关的操作。  \n",
    "  \n",
    "使用import加载模块，`sleep()`可以让程序停止一段时间，可以设置成int或float，单位为秒。"
   ]
  },
  {
   "cell_type": "code",
   "execution_count": 3,
   "id": "ee334f43",
   "metadata": {},
   "outputs": [
    {
     "name": "stdout",
     "output_type": "stream",
     "text": [
      "5\n",
      "4\n",
      "3\n",
      "2\n",
      "1\n",
      "Blastoff\n",
      "0\n"
     ]
    }
   ],
   "source": [
    "import time\n",
    "\n",
    "n = 5\n",
    "\n",
    "while n > 0:\n",
    "    print(n)\n",
    "    time.sleep(1)\n",
    "    n = n-1\n",
    "\n",
    "print('Blastoff')\n",
    "print(n)"
   ]
  },
  {
   "cell_type": "markdown",
   "id": "fcf230a8",
   "metadata": {},
   "source": [
    "### 循环控制"
   ]
  },
  {
   "cell_type": "markdown",
   "id": "6ad310ad",
   "metadata": {},
   "source": [
    "使用`break`结束整个循环。"
   ]
  },
  {
   "cell_type": "code",
   "execution_count": 5,
   "id": "2e390912",
   "metadata": {},
   "outputs": [
    {
     "name": "stdout",
     "output_type": "stream",
     "text": [
      ">s\n",
      "s\n",
      ">quit\n",
      "out of the while\n"
     ]
    }
   ],
   "source": [
    "while True:\n",
    "    line = input('>')\n",
    "    if line == 'quit':\n",
    "        break\n",
    "    print(line)\n",
    "\n",
    "print('out of the while')"
   ]
  },
  {
   "cell_type": "markdown",
   "id": "699d2f5c",
   "metadata": {},
   "source": [
    "使用`continue`结束本轮循环：不再执行循环中的后续代码，并回到条件判断处。"
   ]
  },
  {
   "cell_type": "code",
   "execution_count": 6,
   "id": "79779b88",
   "metadata": {},
   "outputs": [
    {
     "name": "stdout",
     "output_type": "stream",
     "text": [
      ">s\n",
      "s\n",
      ">sleep\n",
      ">quit\n",
      "out of the while\n"
     ]
    }
   ],
   "source": [
    "while True:\n",
    "    line = input('>')\n",
    "    if line == 'quit':\n",
    "        break\n",
    "    if line == 'sleep':\n",
    "        continue\n",
    "    print(line)\n",
    "\n",
    "print('out of the while')"
   ]
  },
  {
   "cell_type": "markdown",
   "id": "f3953045",
   "metadata": {},
   "source": [
    "### 随机整数"
   ]
  },
  {
   "cell_type": "markdown",
   "id": "fe69890e",
   "metadata": {},
   "source": [
    "使用`random`产生随机数。  \n",
    "  \n",
    "`randrange(start,stop,step)`  \n",
    "start：最小值，包含在范围内  \n",
    "stop：最大值，不包含在范围内  \n",
    "step:递增的步长"
   ]
  },
  {
   "cell_type": "code",
   "execution_count": 12,
   "id": "16f0a697",
   "metadata": {},
   "outputs": [
    {
     "name": "stdout",
     "output_type": "stream",
     "text": [
      "2\n"
     ]
    }
   ],
   "source": [
    "import random\n",
    "\n",
    "x = random.randrange(0,4,2)\n",
    "print(x)"
   ]
  },
  {
   "cell_type": "markdown",
   "id": "986d95ee",
   "metadata": {},
   "source": [
    "## 1.2 for循环"
   ]
  },
  {
   "cell_type": "markdown",
   "id": "0fa239fe",
   "metadata": {},
   "source": [
    "如果希望遍历一些元素中的每一个， 使用for循环更为简单。"
   ]
  },
  {
   "cell_type": "markdown",
   "id": "6aece6af",
   "metadata": {},
   "source": [
    "### while和for比较"
   ]
  },
  {
   "cell_type": "markdown",
   "id": "0c79845c",
   "metadata": {},
   "source": [
    "|     | 循环依据 | 循环次数 |\n",
    "|  ----  |  ----  |  ----  |\n",
    "| while  | 条件是否成立 | 不一定可知 |\n",
    "| for  | 遍历是否结束 | 元素个数 |"
   ]
  },
  {
   "cell_type": "code",
   "execution_count": 15,
   "id": "e03ad32b",
   "metadata": {},
   "outputs": [
    {
     "name": "stdout",
     "output_type": "stream",
     "text": [
      "5\n",
      "4\n",
      "3\n",
      "2\n",
      "1\n",
      "Blastoff\n"
     ]
    }
   ],
   "source": [
    "for i in [5,4,3,2,1]: #i是迭代标量，也可以使用其他变量名。\n",
    "    print(i)\n",
    "print('Blastoff')\n",
    "\n",
    "#在每一轮循环中，将对应元素赋值给迭代变量\n",
    "#运行循环块中的代码，直到遍历完所有的元素"
   ]
  },
  {
   "cell_type": "code",
   "execution_count": 17,
   "id": "c1d26fae",
   "metadata": {},
   "outputs": [
    {
     "name": "stdout",
     "output_type": "stream",
     "text": [
      "Happy New Year:  Joseph\n",
      "Happy New Year:  Glenn\n",
      "Happy New Year:  Sally\n",
      "Done!\n"
     ]
    }
   ],
   "source": [
    "friends = ['Joseph','Glenn','Sally']\n",
    "for friend in friends:\n",
    "    print('Happy New Year: ',friend)\n",
    "print('Done!')"
   ]
  },
  {
   "cell_type": "markdown",
   "id": "4dc8fca0",
   "metadata": {},
   "source": [
    "### for循环的常见用法"
   ]
  },
  {
   "cell_type": "code",
   "execution_count": 18,
   "id": "f520ee4b",
   "metadata": {},
   "outputs": [
    {
     "name": "stdout",
     "output_type": "stream",
     "text": [
      "2\n",
      "4\n",
      "6\n",
      "8\n",
      "10\n"
     ]
    }
   ],
   "source": [
    "#遍历一些元素\n",
    "for i in [2,4,6,8,10]:\n",
    "    print(i)"
   ]
  },
  {
   "cell_type": "code",
   "execution_count": 19,
   "id": "a12849d6",
   "metadata": {},
   "outputs": [
    {
     "name": "stdout",
     "output_type": "stream",
     "text": [
      "0\n",
      "1\n",
      "2\n",
      "3\n",
      "4\n"
     ]
    }
   ],
   "source": [
    "#使用range()产生元素\n",
    "for i in range(5):\n",
    "    print(i)"
   ]
  },
  {
   "cell_type": "code",
   "execution_count": 20,
   "id": "3e949e8f",
   "metadata": {},
   "outputs": [
    {
     "name": "stdout",
     "output_type": "stream",
     "text": [
      "Hello World!\n",
      "Hello World!\n",
      "Hello World!\n",
      "Hello World!\n",
      "Hello World!\n"
     ]
    }
   ],
   "source": [
    "#重复相同操作\n",
    "for i in range(5):\n",
    "    print('Hello World!')"
   ]
  },
  {
   "cell_type": "code",
   "execution_count": null,
   "id": "2a1b25fd",
   "metadata": {},
   "outputs": [],
   "source": []
  }
 ],
 "metadata": {
  "kernelspec": {
   "display_name": "Python 3",
   "language": "python",
   "name": "python3"
  },
  "language_info": {
   "codemirror_mode": {
    "name": "ipython",
    "version": 3
   },
   "file_extension": ".py",
   "mimetype": "text/x-python",
   "name": "python",
   "nbconvert_exporter": "python",
   "pygments_lexer": "ipython3",
   "version": "3.8.8"
  }
 },
 "nbformat": 4,
 "nbformat_minor": 5
}
