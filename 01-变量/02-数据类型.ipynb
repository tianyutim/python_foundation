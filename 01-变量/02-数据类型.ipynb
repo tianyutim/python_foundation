{
 "cells": [
  {
   "cell_type": "markdown",
   "id": "c1776155",
   "metadata": {},
   "source": [
    "# 02 数据类型"
   ]
  },
  {
   "cell_type": "markdown",
   "id": "0b9ac18a",
   "metadata": {},
   "source": [
    "## 2.1 变量命名"
   ]
  },
  {
   "cell_type": "markdown",
   "id": "c5134de9",
   "metadata": {},
   "source": [
    "好的变量命名习惯：  \n",
    "（1）使用有意义的名称以提高代码可读性  \n",
    "（2）使用下划线分割单词：student_number_of_the_class  \n",
    "（3）使用驼峰命名法：PlayStation（大写）,iPhone（小写）"
   ]
  },
  {
   "cell_type": "markdown",
   "id": "2e79453f",
   "metadata": {},
   "source": [
    "常量和变量都有对应的类型：\n",
    "- 常量的类型固定不变\n",
    "- 变量的类型可变，取决于所存的值\n",
    "\n",
    "类型不同，Python提供的操作也不同：\n",
    "- 对于两个数字而言，加号表示加法\n",
    "- 对于两个字符串而言，加号表示拼接"
   ]
  },
  {
   "cell_type": "code",
   "execution_count": 1,
   "id": "8aa7c9f8",
   "metadata": {},
   "outputs": [
    {
     "name": "stdout",
     "output_type": "stream",
     "text": [
      "5\n"
     ]
    }
   ],
   "source": [
    "my_int = 1+4\n",
    "print(my_int)"
   ]
  },
  {
   "cell_type": "code",
   "execution_count": 3,
   "id": "7348a768",
   "metadata": {},
   "outputs": [
    {
     "name": "stdout",
     "output_type": "stream",
     "text": [
      "Hello World!\n"
     ]
    }
   ],
   "source": [
    "my_str = 'Hello' + ' World!'\n",
    "print(my_str)"
   ]
  },
  {
   "cell_type": "markdown",
   "id": "b7801c34",
   "metadata": {},
   "source": [
    "## 2.2 类型"
   ]
  },
  {
   "cell_type": "markdown",
   "id": "60b27bed",
   "metadata": {},
   "source": [
    "类型很重要。Python规定了每种类型的使用方法，有些操作是无法执行的。"
   ]
  },
  {
   "cell_type": "code",
   "execution_count": 5,
   "id": "2a487479",
   "metadata": {},
   "outputs": [
    {
     "ename": "TypeError",
     "evalue": "can only concatenate str (not \"int\") to str",
     "output_type": "error",
     "traceback": [
      "\u001b[1;31m---------------------------------------------------------------------------\u001b[0m",
      "\u001b[1;31mTypeError\u001b[0m                                 Traceback (most recent call last)",
      "\u001b[1;32m<ipython-input-5-4689bb630ef9>\u001b[0m in \u001b[0;36m<module>\u001b[1;34m\u001b[0m\n\u001b[0;32m      1\u001b[0m \u001b[0mmy_str\u001b[0m \u001b[1;33m=\u001b[0m \u001b[1;34m'Hello'\u001b[0m \u001b[1;33m+\u001b[0m \u001b[1;34m' World!'\u001b[0m\u001b[1;33m\u001b[0m\u001b[1;33m\u001b[0m\u001b[0m\n\u001b[1;32m----> 2\u001b[1;33m \u001b[0mmy_str\u001b[0m \u001b[1;33m=\u001b[0m \u001b[0mmy_str\u001b[0m \u001b[1;33m+\u001b[0m \u001b[1;36m1\u001b[0m\u001b[1;33m\u001b[0m\u001b[1;33m\u001b[0m\u001b[0m\n\u001b[0m",
      "\u001b[1;31mTypeError\u001b[0m: can only concatenate str (not \"int\") to str"
     ]
    }
   ],
   "source": [
    "my_str = 'Hello' + ' World!'\n",
    "my_str = my_str + 1"
   ]
  },
  {
   "cell_type": "markdown",
   "id": "d3bda9ec",
   "metadata": {},
   "source": [
    "使用`type()`获取常量和变量的类型。"
   ]
  },
  {
   "cell_type": "code",
   "execution_count": 6,
   "id": "1757e940",
   "metadata": {},
   "outputs": [
    {
     "data": {
      "text/plain": [
       "str"
      ]
     },
     "execution_count": 6,
     "metadata": {},
     "output_type": "execute_result"
    }
   ],
   "source": [
    "type(my_str)"
   ]
  },
  {
   "cell_type": "code",
   "execution_count": 8,
   "id": "777f752f",
   "metadata": {},
   "outputs": [
    {
     "data": {
      "text/plain": [
       "int"
      ]
     },
     "execution_count": 8,
     "metadata": {},
     "output_type": "execute_result"
    }
   ],
   "source": [
    "type(1)"
   ]
  },
  {
   "cell_type": "code",
   "execution_count": 9,
   "id": "a5a8ed60",
   "metadata": {},
   "outputs": [
    {
     "data": {
      "text/plain": [
       "float"
      ]
     },
     "execution_count": 9,
     "metadata": {},
     "output_type": "execute_result"
    }
   ],
   "source": [
    "type(1.0)"
   ]
  },
  {
   "cell_type": "markdown",
   "id": "85c4087c",
   "metadata": {},
   "source": [
    "### 类型转换\n",
    "Python会执行一些默认的类型转换。\n",
    "- 表达式中既有int又有float时，结果为float\n",
    "- 两个整数之间的除法，结果为float\n",
    "\n",
    "可以使用`int()`和`float()`进行类型转换"
   ]
  },
  {
   "cell_type": "code",
   "execution_count": 10,
   "id": "da7deaf4",
   "metadata": {},
   "outputs": [
    {
     "data": {
      "text/plain": [
       "float"
      ]
     },
     "execution_count": 10,
     "metadata": {},
     "output_type": "execute_result"
    }
   ],
   "source": [
    "type(1.0 * 5)"
   ]
  },
  {
   "cell_type": "code",
   "execution_count": 12,
   "id": "5d83e38a",
   "metadata": {},
   "outputs": [
    {
     "data": {
      "text/plain": [
       "float"
      ]
     },
     "execution_count": 12,
     "metadata": {},
     "output_type": "execute_result"
    }
   ],
   "source": [
    "x = 10 / 2\n",
    "type(x)"
   ]
  },
  {
   "cell_type": "code",
   "execution_count": 13,
   "id": "d61f4c58",
   "metadata": {},
   "outputs": [
    {
     "data": {
      "text/plain": [
       "int"
      ]
     },
     "execution_count": 13,
     "metadata": {},
     "output_type": "execute_result"
    }
   ],
   "source": [
    "x = int(x)\n",
    "type(x)"
   ]
  },
  {
   "cell_type": "code",
   "execution_count": 14,
   "id": "093ba87b",
   "metadata": {},
   "outputs": [
    {
     "data": {
      "text/plain": [
       "float"
      ]
     },
     "execution_count": 14,
     "metadata": {},
     "output_type": "execute_result"
    }
   ],
   "source": [
    "x = float(x)\n",
    "type(x)"
   ]
  },
  {
   "cell_type": "markdown",
   "id": "6199a0bc",
   "metadata": {},
   "source": [
    "数字和字符串之间的类型转换：  \n",
    "使用`int()`、`float()`、`str()`，将类型转换为int、float和string。  、\n",
    "\n",
    "字符串中包含非数字字符时，转换将出错。"
   ]
  },
  {
   "cell_type": "code",
   "execution_count": 16,
   "id": "3be6925b",
   "metadata": {},
   "outputs": [
    {
     "data": {
      "text/plain": [
       "str"
      ]
     },
     "execution_count": 16,
     "metadata": {},
     "output_type": "execute_result"
    }
   ],
   "source": [
    "my_str = '123'\n",
    "type(my_str)"
   ]
  },
  {
   "cell_type": "code",
   "execution_count": 18,
   "id": "24db267e",
   "metadata": {},
   "outputs": [
    {
     "ename": "TypeError",
     "evalue": "can only concatenate str (not \"int\") to str",
     "output_type": "error",
     "traceback": [
      "\u001b[1;31m---------------------------------------------------------------------------\u001b[0m",
      "\u001b[1;31mTypeError\u001b[0m                                 Traceback (most recent call last)",
      "\u001b[1;32m<ipython-input-18-8ee610ca4be2>\u001b[0m in \u001b[0;36m<module>\u001b[1;34m\u001b[0m\n\u001b[1;32m----> 1\u001b[1;33m \u001b[0mprint\u001b[0m\u001b[1;33m(\u001b[0m\u001b[0mmy_str\u001b[0m \u001b[1;33m+\u001b[0m \u001b[1;36m1\u001b[0m\u001b[1;33m)\u001b[0m\u001b[1;33m\u001b[0m\u001b[1;33m\u001b[0m\u001b[0m\n\u001b[0m",
      "\u001b[1;31mTypeError\u001b[0m: can only concatenate str (not \"int\") to str"
     ]
    }
   ],
   "source": [
    "print(my_str + 1)"
   ]
  },
  {
   "cell_type": "code",
   "execution_count": 21,
   "id": "51a83f27",
   "metadata": {},
   "outputs": [
    {
     "data": {
      "text/plain": [
       "int"
      ]
     },
     "execution_count": 21,
     "metadata": {},
     "output_type": "execute_result"
    }
   ],
   "source": [
    "my_str = int(my_str)\n",
    "type(my_str)"
   ]
  },
  {
   "cell_type": "code",
   "execution_count": 22,
   "id": "78845911",
   "metadata": {},
   "outputs": [
    {
     "name": "stdout",
     "output_type": "stream",
     "text": [
      "124\n"
     ]
    }
   ],
   "source": [
    "print(my_str + 1)"
   ]
  },
  {
   "cell_type": "code",
   "execution_count": 23,
   "id": "98bc99d9",
   "metadata": {},
   "outputs": [
    {
     "ename": "ValueError",
     "evalue": "invalid literal for int() with base 10: 'Hello World!'",
     "output_type": "error",
     "traceback": [
      "\u001b[1;31m---------------------------------------------------------------------------\u001b[0m",
      "\u001b[1;31mValueError\u001b[0m                                Traceback (most recent call last)",
      "\u001b[1;32m<ipython-input-23-859c1d4bc524>\u001b[0m in \u001b[0;36m<module>\u001b[1;34m\u001b[0m\n\u001b[0;32m      1\u001b[0m \u001b[0mmy_str\u001b[0m \u001b[1;33m=\u001b[0m \u001b[1;34m'Hello World!'\u001b[0m\u001b[1;33m\u001b[0m\u001b[1;33m\u001b[0m\u001b[0m\n\u001b[1;32m----> 2\u001b[1;33m \u001b[0mmy_str\u001b[0m \u001b[1;33m=\u001b[0m \u001b[0mint\u001b[0m\u001b[1;33m(\u001b[0m\u001b[0mmy_str\u001b[0m\u001b[1;33m)\u001b[0m\u001b[1;33m\u001b[0m\u001b[1;33m\u001b[0m\u001b[0m\n\u001b[0m",
      "\u001b[1;31mValueError\u001b[0m: invalid literal for int() with base 10: 'Hello World!'"
     ]
    }
   ],
   "source": [
    "my_str = 'Hello World!'\n",
    "my_str = int(my_str)"
   ]
  },
  {
   "cell_type": "markdown",
   "id": "1b005d4e",
   "metadata": {},
   "source": [
    "转换之后，有时需要保留原始数据。"
   ]
  },
  {
   "cell_type": "code",
   "execution_count": 24,
   "id": "2af6b91a",
   "metadata": {},
   "outputs": [
    {
     "name": "stdout",
     "output_type": "stream",
     "text": [
      "124\n"
     ]
    }
   ],
   "source": [
    "my_str = '123'\n",
    "my_str = int(my_str)\n",
    "print(my_str + 1)"
   ]
  },
  {
   "cell_type": "code",
   "execution_count": 25,
   "id": "0c95784c",
   "metadata": {},
   "outputs": [
    {
     "name": "stdout",
     "output_type": "stream",
     "text": [
      "124\n"
     ]
    }
   ],
   "source": [
    "my_str = '123'\n",
    "print(int(my_str) + 1)"
   ]
  },
  {
   "cell_type": "markdown",
   "id": "b873956b",
   "metadata": {},
   "source": [
    "## 2.3 用户输入\n",
    "使用`input()`输入信息时，\n",
    "- Python会停下来\n",
    "- 等待用户输入并回车\n",
    "\n",
    "输入的内容会存到一个字符串中。"
   ]
  },
  {
   "cell_type": "code",
   "execution_count": 26,
   "id": "e7d44fe0",
   "metadata": {},
   "outputs": [
    {
     "name": "stdout",
     "output_type": "stream",
     "text": [
      "Who are you?\n",
      "Tim\n"
     ]
    }
   ],
   "source": [
    "name = input('Who are you?\\n')"
   ]
  },
  {
   "cell_type": "code",
   "execution_count": 27,
   "id": "196f1ee9",
   "metadata": {},
   "outputs": [
    {
     "name": "stdout",
     "output_type": "stream",
     "text": [
      "Input a number:7\n"
     ]
    }
   ],
   "source": [
    "my_int = input('Input a number:')"
   ]
  },
  {
   "cell_type": "code",
   "execution_count": 28,
   "id": "90d032c2",
   "metadata": {},
   "outputs": [
    {
     "data": {
      "text/plain": [
       "str"
      ]
     },
     "execution_count": 28,
     "metadata": {},
     "output_type": "execute_result"
    }
   ],
   "source": [
    "type(my_int)"
   ]
  },
  {
   "cell_type": "markdown",
   "id": "49178e3e",
   "metadata": {},
   "source": [
    "将用户输入转换为数字并计算。"
   ]
  },
  {
   "cell_type": "code",
   "execution_count": 30,
   "id": "eb6fe50a",
   "metadata": {},
   "outputs": [
    {
     "name": "stdout",
     "output_type": "stream",
     "text": [
      "Weight of apple:0.6\n"
     ]
    }
   ],
   "source": [
    "weight = float(input('Weight of apple:'))"
   ]
  },
  {
   "cell_type": "code",
   "execution_count": 31,
   "id": "5851354d",
   "metadata": {},
   "outputs": [
    {
     "name": "stdout",
     "output_type": "stream",
     "text": [
      "Price of apple:12\n"
     ]
    }
   ],
   "source": [
    "price = float(input('Price of apple:'))"
   ]
  },
  {
   "cell_type": "code",
   "execution_count": 32,
   "id": "60ddeeb4",
   "metadata": {},
   "outputs": [
    {
     "name": "stdout",
     "output_type": "stream",
     "text": [
      "7.199999999999999\n"
     ]
    }
   ],
   "source": [
    "cost = weight * price \n",
    "print(cost)"
   ]
  },
  {
   "cell_type": "markdown",
   "id": "ffc6143b",
   "metadata": {},
   "source": [
    "**格式化**  控制小数点的位数"
   ]
  },
  {
   "cell_type": "code",
   "execution_count": 45,
   "id": "1a06a166",
   "metadata": {},
   "outputs": [
    {
     "name": "stdout",
     "output_type": "stream",
     "text": [
      "7.200\n"
     ]
    }
   ],
   "source": [
    "print('{:.3f}'.format(cost))"
   ]
  },
  {
   "cell_type": "code",
   "execution_count": 46,
   "id": "f125fd72",
   "metadata": {},
   "outputs": [
    {
     "name": "stdout",
     "output_type": "stream",
     "text": [
      "7.20\n"
     ]
    }
   ],
   "source": [
    "print('{:.2f}'.format(cost))"
   ]
  },
  {
   "cell_type": "markdown",
   "id": "0cb670ef",
   "metadata": {},
   "source": [
    "## 2.4 注释"
   ]
  },
  {
   "cell_type": "markdown",
   "id": "6c96a7d1",
   "metadata": {},
   "source": [
    "以`#`开头的代码行为注释\n",
    "- 可以在注释中写一些说明信息\n",
    "- 被注释的代码行不会运行\n",
    "- 可以把注释理解为关掉代码\n",
    "- 使用三引号进行多行注释（在Python脚本中）"
   ]
  },
  {
   "cell_type": "code",
   "execution_count": 48,
   "id": "0d50742e",
   "metadata": {},
   "outputs": [
    {
     "name": "stdout",
     "output_type": "stream",
     "text": [
      "A Wonderful Code\n"
     ]
    }
   ],
   "source": [
    "# A Wonderful Code is Coming!\n",
    "print('A Wonderful Code')"
   ]
  },
  {
   "cell_type": "code",
   "execution_count": 49,
   "id": "e1877b5f",
   "metadata": {},
   "outputs": [
    {
     "name": "stdout",
     "output_type": "stream",
     "text": [
      "print this message\n"
     ]
    }
   ],
   "source": [
    "print('print this message')"
   ]
  },
  {
   "cell_type": "code",
   "execution_count": 50,
   "id": "b95fcf27",
   "metadata": {},
   "outputs": [],
   "source": [
    "#print('print this message')"
   ]
  },
  {
   "cell_type": "code",
   "execution_count": null,
   "id": "ce3721a2",
   "metadata": {},
   "outputs": [],
   "source": []
  }
 ],
 "metadata": {
  "kernelspec": {
   "display_name": "Python 3",
   "language": "python",
   "name": "python3"
  },
  "language_info": {
   "codemirror_mode": {
    "name": "ipython",
    "version": 3
   },
   "file_extension": ".py",
   "mimetype": "text/x-python",
   "name": "python",
   "nbconvert_exporter": "python",
   "pygments_lexer": "ipython3",
   "version": "3.8.8"
  }
 },
 "nbformat": 4,
 "nbformat_minor": 5
}
