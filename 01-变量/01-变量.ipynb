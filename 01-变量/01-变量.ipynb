{
 "cells": [
  {
   "cell_type": "markdown",
   "id": "a14ba824",
   "metadata": {},
   "source": [
    "# 01 变量 Variable"
   ]
  },
  {
   "cell_type": "markdown",
   "id": "fa402328",
   "metadata": {},
   "source": [
    "## 1.1 常量\n",
    "常量：指固定不变的量。数字是常量，包括整数和浮点数。"
   ]
  },
  {
   "cell_type": "code",
   "execution_count": 1,
   "id": "83c01c65",
   "metadata": {},
   "outputs": [
    {
     "name": "stdout",
     "output_type": "stream",
     "text": [
      "123\n"
     ]
    }
   ],
   "source": [
    "print(123)"
   ]
  },
  {
   "cell_type": "code",
   "execution_count": 2,
   "id": "31ea0abe",
   "metadata": {},
   "outputs": [
    {
     "name": "stdout",
     "output_type": "stream",
     "text": [
      "2.5\n"
     ]
    }
   ],
   "source": [
    "print(2.5)"
   ]
  },
  {
   "cell_type": "markdown",
   "id": "274cbee7",
   "metadata": {},
   "source": [
    "字符串也是常量，可以用单引号、双引号或三引号括起来一个字符串。如果字符串需要换行只能使用三引号。换行的转义字符`/n`。"
   ]
  },
  {
   "cell_type": "code",
   "execution_count": 3,
   "id": "3b40ab1c",
   "metadata": {
    "scrolled": true
   },
   "outputs": [
    {
     "name": "stdout",
     "output_type": "stream",
     "text": [
      "Hello World!\n"
     ]
    }
   ],
   "source": [
    "print('Hello World!')"
   ]
  },
  {
   "cell_type": "code",
   "execution_count": 4,
   "id": "95ba50e4",
   "metadata": {},
   "outputs": [
    {
     "name": "stdout",
     "output_type": "stream",
     "text": [
      "Hello World!\n"
     ]
    }
   ],
   "source": [
    "print(\"Hello World!\")"
   ]
  },
  {
   "cell_type": "code",
   "execution_count": 5,
   "id": "219b179b",
   "metadata": {},
   "outputs": [
    {
     "name": "stdout",
     "output_type": "stream",
     "text": [
      "Hello World!\n"
     ]
    }
   ],
   "source": [
    "print('''Hello World!''')"
   ]
  },
  {
   "cell_type": "code",
   "execution_count": 6,
   "id": "bad113a3",
   "metadata": {},
   "outputs": [
    {
     "name": "stdout",
     "output_type": "stream",
     "text": [
      "\n",
      "Hello\n",
      "World!\n"
     ]
    }
   ],
   "source": [
    "print('''\n",
    "Hello\n",
    "World!''')"
   ]
  },
  {
   "cell_type": "code",
   "execution_count": 7,
   "id": "f29935fb",
   "metadata": {},
   "outputs": [
    {
     "name": "stdout",
     "output_type": "stream",
     "text": [
      "123\n",
      "12\n",
      "34\n"
     ]
    }
   ],
   "source": [
    "print('123')\n",
    "print('12\\n34')"
   ]
  },
  {
   "cell_type": "code",
   "execution_count": 8,
   "id": "6a1b2882",
   "metadata": {},
   "outputs": [
    {
     "name": "stdout",
     "output_type": "stream",
     "text": [
      "12\\n34\n"
     ]
    }
   ],
   "source": [
    "print('12\\\\n34')"
   ]
  },
  {
   "cell_type": "markdown",
   "id": "e43d93e1",
   "metadata": {},
   "source": [
    "## 1.2 变量\n",
    "变量：指值可以变化的量。对应内存中的一块命名空间。变量好比一块黑板，可以自由地书写、修改、擦除内容。变量涉及的基本内容有名称、声明、赋值、取值、修改。使用变量可以增强程序的逻辑性，使程序更为简单。"
   ]
  },
  {
   "cell_type": "code",
   "execution_count": 9,
   "id": "3cb57379",
   "metadata": {},
   "outputs": [
    {
     "name": "stdout",
     "output_type": "stream",
     "text": [
      "10\n"
     ]
    }
   ],
   "source": [
    "my_int = 10 #变量的名称最好有一定的意义，能够提示变量的作用\n",
    "print(my_int)"
   ]
  },
  {
   "cell_type": "code",
   "execution_count": 10,
   "id": "8ee742e4",
   "metadata": {},
   "outputs": [
    {
     "name": "stdout",
     "output_type": "stream",
     "text": [
      "2.5\n"
     ]
    }
   ],
   "source": [
    "my_float = 2.5\n",
    "print(my_float)"
   ]
  },
  {
   "cell_type": "code",
   "execution_count": 11,
   "id": "42c29ebb",
   "metadata": {},
   "outputs": [
    {
     "name": "stdout",
     "output_type": "stream",
     "text": [
      "Hello World!\n"
     ]
    }
   ],
   "source": [
    "my_str = 'Hello World!'\n",
    "print(my_str)"
   ]
  },
  {
   "cell_type": "code",
   "execution_count": 12,
   "id": "85baf3c5",
   "metadata": {},
   "outputs": [
    {
     "name": "stdout",
     "output_type": "stream",
     "text": [
      "20\n"
     ]
    }
   ],
   "source": [
    "my_int = 20\n",
    "print(my_int)"
   ]
  },
  {
   "cell_type": "markdown",
   "id": "481c0100",
   "metadata": {},
   "source": [
    "**不能使用保留名/关键字作为变量的名称**"
   ]
  },
  {
   "cell_type": "code",
   "execution_count": 13,
   "id": "0fd58772",
   "metadata": {},
   "outputs": [
    {
     "ename": "TypeError",
     "evalue": "'int' object is not callable",
     "output_type": "error",
     "traceback": [
      "\u001b[1;31m---------------------------------------------------------------------------\u001b[0m",
      "\u001b[1;31mTypeError\u001b[0m                                 Traceback (most recent call last)",
      "\u001b[1;32m<ipython-input-13-0a8f742a7a2c>\u001b[0m in \u001b[0;36m<module>\u001b[1;34m\u001b[0m\n\u001b[0;32m      1\u001b[0m \u001b[0mprint\u001b[0m \u001b[1;33m=\u001b[0m \u001b[1;36m123\u001b[0m\u001b[1;33m\u001b[0m\u001b[1;33m\u001b[0m\u001b[0m\n\u001b[1;32m----> 2\u001b[1;33m \u001b[0mprint\u001b[0m\u001b[1;33m(\u001b[0m\u001b[0mprint\u001b[0m\u001b[1;33m)\u001b[0m\u001b[1;33m\u001b[0m\u001b[1;33m\u001b[0m\u001b[0m\n\u001b[0m",
      "\u001b[1;31mTypeError\u001b[0m: 'int' object is not callable"
     ]
    }
   ],
   "source": [
    "print = 123\n",
    "print(print)"
   ]
  },
  {
   "cell_type": "markdown",
   "id": "91130904",
   "metadata": {},
   "source": [
    "Python中变量命名规定：  \n",
    "（1）必须以字母或下划线开头  \n",
    "（2）仅包含字母、数字和下划线  \n",
    "（3）大小写敏感  \n",
    "（4）建议使用一些有意义的变量名称"
   ]
  },
  {
   "cell_type": "code",
   "execution_count": 14,
   "id": "c8dab603",
   "metadata": {},
   "outputs": [],
   "source": [
    "# GOOD: spam  eggs  spam23\n",
    "# BAD:  23spam  #sign  var.12\n",
    "# Differnece: spam Spam SPAM"
   ]
  },
  {
   "cell_type": "markdown",
   "id": "5f3a920f",
   "metadata": {},
   "source": [
    "变量的使用包括：  \n",
    "（1）常量：如声明和赋值变量 x=7  \n",
    "（2）变量：如使用表达式赋值 y=3+5  \n",
    "（3）运算符：如修改变量的值 x=x-1  \n",
    "（4）保留名：如打印变量 print(x)"
   ]
  },
  {
   "cell_type": "markdown",
   "id": "4d59fbb8",
   "metadata": {},
   "source": [
    "**赋值操作**  \n",
    "在数学中，=表示两边的值相等，例如1+2=3。  \n",
    "在编程中，=表示赋值操作，将右边的值赋给左边。因此左边应当是可以修改的变量，右边应当是常量或者可以计算出结果的表达式。"
   ]
  },
  {
   "cell_type": "code",
   "execution_count": 15,
   "id": "d1dafd20",
   "metadata": {},
   "outputs": [
    {
     "data": {
      "text/plain": [
       "-5.0"
      ]
     },
     "execution_count": 15,
     "metadata": {},
     "output_type": "execute_result"
    }
   ],
   "source": [
    "x = 2\n",
    "x = 2.5 * x * (1-x)\n",
    "x"
   ]
  },
  {
   "cell_type": "markdown",
   "id": "2dc33348",
   "metadata": {},
   "source": [
    "**数值运算符**  \n",
    "（1）加：+  （2）减：-  （3）乘：*  （4）除：/  （5）指数：**  （6）取余：%"
   ]
  },
  {
   "cell_type": "code",
   "execution_count": 16,
   "id": "673ca2f9",
   "metadata": {},
   "outputs": [],
   "source": [
    "# addition = 72+23\n",
    "# subtraction = 108 -204\n",
    "# multiplication1 = 108*2 #结果为整数\n",
    "# multiplication2 = 108*2.0 #结果为浮点数\n",
    "# division = 108/9\n",
    "# power = 3 ** 3\n",
    "# remainder = 15%4"
   ]
  },
  {
   "cell_type": "markdown",
   "id": "6ad69f03",
   "metadata": {},
   "source": [
    "**运算顺序**  \n",
    "当表达式中包含多个运算符时：  \n",
    "（1）括号内的表达式  \n",
    "（2）指数运算  \n",
    "（3）乘、除、取余  \n",
    "（4）加、减  \n",
    "（5）同级别下，从左至右  \n",
    "【和数学里的运算顺序是一致的】"
   ]
  },
  {
   "cell_type": "markdown",
   "id": "fcf9a93b",
   "metadata": {},
   "source": [
    "## 1.3 练习\n",
    "使用一个变量表示圆的半径，例如为5。使用另一个变量表示圆周率。使用运算符分别计算圆的周长和面积。"
   ]
  },
  {
   "cell_type": "code",
   "execution_count": 17,
   "id": "1999c97b",
   "metadata": {},
   "outputs": [
    {
     "data": {
      "text/plain": [
       "31.400000000000002"
      ]
     },
     "execution_count": 17,
     "metadata": {},
     "output_type": "execute_result"
    }
   ],
   "source": [
    "radius = 5\n",
    "PI = 3.14\n",
    "length = 2 * radius * PI\n",
    "length"
   ]
  },
  {
   "cell_type": "code",
   "execution_count": 18,
   "id": "7ff62082",
   "metadata": {},
   "outputs": [
    {
     "data": {
      "text/plain": [
       "78.5"
      ]
     },
     "execution_count": 18,
     "metadata": {},
     "output_type": "execute_result"
    }
   ],
   "source": [
    "area = PI * radius ** 2\n",
    "area"
   ]
  }
 ],
 "metadata": {
  "kernelspec": {
   "display_name": "Python 3",
   "language": "python",
   "name": "python3"
  },
  "language_info": {
   "codemirror_mode": {
    "name": "ipython",
    "version": 3
   },
   "file_extension": ".py",
   "mimetype": "text/x-python",
   "name": "python",
   "nbconvert_exporter": "python",
   "pygments_lexer": "ipython3",
   "version": "3.8.8"
  }
 },
 "nbformat": 4,
 "nbformat_minor": 5
}
